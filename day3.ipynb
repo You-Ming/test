{
  "nbformat": 4,
  "nbformat_minor": 0,
  "metadata": {
    "colab": {
      "name": "day3.ipynb",
      "provenance": [],
      "authorship_tag": "ABX9TyPz8k1RqBODk8IFZd5ChD5M",
      "include_colab_link": true
    },
    "kernelspec": {
      "name": "python3",
      "display_name": "Python 3"
    },
    "language_info": {
      "name": "python"
    }
  },
  "cells": [
    {
      "cell_type": "markdown",
      "metadata": {
        "id": "view-in-github",
        "colab_type": "text"
      },
      "source": [
        "<a href=\"https://colab.research.google.com/github/You-Ming/test/blob/main/day3.ipynb\" target=\"_parent\"><img src=\"https://colab.research.google.com/assets/colab-badge.svg\" alt=\"Open In Colab\"/></a>"
      ]
    },
    {
      "cell_type": "code",
      "execution_count": 4,
      "metadata": {
        "colab": {
          "base_uri": "https://localhost:8080/"
        },
        "id": "njuA7Ow4FiFB",
        "outputId": "351c2069-4a1d-4ace-c615-d0e7895bbb03"
      },
      "outputs": [
        {
          "output_type": "stream",
          "name": "stdout",
          "text": [
            "Requirement already satisfied: beautifulsoup4 in /usr/local/lib/python3.7/dist-packages (4.6.3)\n"
          ]
        }
      ],
      "source": [
        "pip install beautifulsoup4"
      ]
    },
    {
      "cell_type": "code",
      "source": [
        "pip install requests"
      ],
      "metadata": {
        "colab": {
          "base_uri": "https://localhost:8080/"
        },
        "id": "pRAkZIR3HL0D",
        "outputId": "1c2b7e6c-484c-4c76-a5b2-48951433f9c6"
      },
      "execution_count": 5,
      "outputs": [
        {
          "output_type": "stream",
          "name": "stdout",
          "text": [
            "Requirement already satisfied: requests in /usr/local/lib/python3.7/dist-packages (2.23.0)\n",
            "Requirement already satisfied: chardet<4,>=3.0.2 in /usr/local/lib/python3.7/dist-packages (from requests) (3.0.4)\n",
            "Requirement already satisfied: urllib3!=1.25.0,!=1.25.1,<1.26,>=1.21.1 in /usr/local/lib/python3.7/dist-packages (from requests) (1.24.3)\n",
            "Requirement already satisfied: certifi>=2017.4.17 in /usr/local/lib/python3.7/dist-packages (from requests) (2021.10.8)\n",
            "Requirement already satisfied: idna<3,>=2.5 in /usr/local/lib/python3.7/dist-packages (from requests) (2.10)\n"
          ]
        }
      ]
    },
    {
      "cell_type": "code",
      "source": [
        "import requests\n",
        "from bs4 import BeautifulSoup\n",
        "\n",
        "response = requests.get(\"https://pttweb.tw/news\")"
      ],
      "metadata": {
        "id": "TrBeraA7GK38"
      },
      "execution_count": 6,
      "outputs": []
    },
    {
      "cell_type": "code",
      "source": [
        "soup = BeautifulSoup(response.text, \"html.parser\")\n"
      ],
      "metadata": {
        "id": "HQL1swMEGYFD"
      },
      "execution_count": 7,
      "outputs": []
    },
    {
      "cell_type": "code",
      "source": [
        "result = soup.find(\"a\")\n",
        "\n",
        "result = soup.find_all(\"a\")\n",
        "\n",
        "result = soup.find_all(\"span\", {\"class\": \"thread-title\"})\n",
        "\n",
        "for r in result:\n",
        "    print(r, '\\n')\n",
        "\n"
      ],
      "metadata": {
        "colab": {
          "base_uri": "https://localhost:8080/"
        },
        "id": "Nfz7wqTpHWDG",
        "outputId": "4fa857ab-2e26-4602-ecc6-1891ffed0de5"
      },
      "execution_count": 9,
      "outputs": [
        {
          "output_type": "stream",
          "name": "stdout",
          "text": [
            "<span class=\"thread-title\">\n",
            "<a href=\"/s/3kbBwf\" title=\"[新聞] 怒吼畫面首曝光！林秉樞靈堂失控 當眾\">[新聞] 怒吼畫面首曝光！林秉樞靈堂失控 當眾</a>\n",
            "</span> \n",
            "\n",
            "<span class=\"thread-title\">\n",
            "<a href=\"/s/3kXXgy\" title=\"[新聞] 林秉樞假冒國安人員打疫苗？　指揮中心：\">[新聞] 林秉樞假冒國安人員打疫苗？　指揮中心：</a>\n",
            "</span> \n",
            "\n",
            "<span class=\"thread-title\">\n",
            "<a href=\"/s/3kaKjo\" title=\"[爆卦] 跨性別男參賽女子組,血洗美國游泳紀錄\">[爆卦] 跨性別男參賽女子組,血洗美國游泳紀錄</a>\n",
            "</span> \n",
            "\n",
            "<span class=\"thread-title\">\n",
            "<a href=\"/s/3kdA78\" title=\"Re: [新聞] 開戰！柯文哲發言人嗆盾牌牙醫：含沙射影\">Re: [新聞] 開戰！柯文哲發言人嗆盾牌牙醫：含沙射影</a>\n",
            "</span> \n",
            "\n",
            "<span class=\"thread-title\">\n",
            "<a href=\"/s/3kc1CO\" title=\"[新聞] 公投最後10天 蔡英文：台灣隊站出來、一\">[新聞] 公投最後10天 蔡英文：台灣隊站出來、一</a>\n",
            "</span> \n",
            "\n",
            "<span class=\"thread-title\">\n",
            "<a href=\"/s/3kV3Yy\" title=\"[爆卦] 國發會ip(GSN)親自下場黑韓產業鏈被抓\">[爆卦] 國發會ip(GSN)親自下場黑韓產業鏈被抓</a>\n",
            "</span> \n",
            "\n",
            "<span class=\"thread-title\">\n",
            "<a href=\"/s/3kTE1j\" title=\"[新聞] 高雄嬤狂掃21愛心便當！站長怒爆「家住\">[新聞] 高雄嬤狂掃21愛心便當！站長怒爆「家住</a>\n",
            "</span> \n",
            "\n",
            "<span class=\"thread-title\">\n",
            "<a href=\"/s/3kSMDx\" title=\"[新聞] 衝擊公投？民進黨內盼高嘉瑜噤聲 為黨冷\">[新聞] 衝擊公投？民進黨內盼高嘉瑜噤聲 為黨冷</a>\n",
            "</span> \n",
            "\n",
            "<span class=\"thread-title\">\n",
            "<a href=\"/s/3keMyh\" title=\"Re: [新聞] 開戰！柯文哲發言人嗆盾牌牙醫：含沙射影\">Re: [新聞] 開戰！柯文哲發言人嗆盾牌牙醫：含沙射影</a>\n",
            "</span> \n",
            "\n",
            "<span class=\"thread-title\">\n",
            "<a href=\"/s/3keYat\" title=\"[新聞] 獨家／爆林秉樞看守所律見失控嗆高嘉瑜　\">[新聞] 獨家／爆林秉樞看守所律見失控嗆高嘉瑜　</a>\n",
            "</span> \n",
            "\n",
            "<span class=\"thread-title\">\n",
            "<a href=\"/s/3kXyzV\" title=\"[新聞] 遭自家人打臉有網軍 柯文哲：到現在被抓\">[新聞] 遭自家人打臉有網軍 柯文哲：到現在被抓</a>\n",
            "</span> \n",
            "\n",
            "<span class=\"thread-title\">\n",
            "<a href=\"/s/3kRtyw\" title=\"[新聞] 網軍風波延燒　柯文哲前幕僚爆：李柏璋\">[新聞] 網軍風波延燒　柯文哲前幕僚爆：李柏璋</a>\n",
            "</span> \n",
            "\n",
            "<span class=\"thread-title\">\n",
            "<a href=\"/s/3kjOMd\" title=\"[新聞] 肉商表態︰不同意禁萊豬 「反萊豬若通\">[新聞] 肉商表態︰不同意禁萊豬 「反萊豬若通</a>\n",
            "</span> \n",
            "\n",
            "<span class=\"thread-title\">\n",
            "<a href=\"/s/3kRjZW\" title=\"[新聞] 永和水溝漂無頭屍 警仔細一看連四肢都沒有\">[新聞] 永和水溝漂無頭屍 警仔細一看連四肢都沒有</a>\n",
            "</span> \n",
            "\n",
            "<span class=\"thread-title\">\n",
            "<a href=\"/s/3kS810\" title=\"Re: [爆卦] 范雲:KMT抹黑我是女權破口 可恥!\">Re: [爆卦] 范雲:KMT抹黑我是女權破口 可恥!</a>\n",
            "</span> \n",
            "\n",
            "<span class=\"thread-title\">\n",
            "<a href=\"/s/3kannZ\" title=\"[新聞] 「安樂死座艙」瑞士政府核准了！死亡地點\">[新聞] 「安樂死座艙」瑞士政府核准了！死亡地點</a>\n",
            "</span> \n",
            "\n",
            "<span class=\"thread-title\">\n",
            "<a href=\"/s/3kVv55\" title=\"[新聞] 怎樣算「台灣隊」隊員？　民進黨曝資格：\">[新聞] 怎樣算「台灣隊」隊員？　民進黨曝資格：</a>\n",
            "</span> \n",
            "\n",
            "<span class=\"thread-title\">\n",
            "<a href=\"/s/3kdBml\" title=\"[新聞] 范雲：停止利用女人傷痛換政治紅利\">[新聞] 范雲：停止利用女人傷痛換政治紅利</a>\n",
            "</span> \n",
            "\n",
            "<span class=\"thread-title\">\n",
            "<a href=\"/s/3kdRO6\" title=\"[新聞] 「永和無頭屍」兇手抓到了！不忍母親長期\">[新聞] 「永和無頭屍」兇手抓到了！不忍母親長期</a>\n",
            "</span> \n",
            "\n",
            "<span class=\"thread-title\">\n",
            "<a href=\"/s/3kRSYV\" title=\"[新聞] 快訊／永和排水溝驚見「無頭、無四肢」人\">[新聞] 快訊／永和排水溝驚見「無頭、無四肢」人</a>\n",
            "</span> \n",
            "\n"
          ]
        }
      ]
    },
    {
      "cell_type": "code",
      "source": [
        "for r in result:\n",
        "    title = r.find_all(\"a\")[0]\n",
        "    print(title.get_text())\n"
      ],
      "metadata": {
        "colab": {
          "base_uri": "https://localhost:8080/"
        },
        "id": "y_i5dvfqH2m1",
        "outputId": "ac9e6a39-f75f-4714-ee12-b0c015e3adbe"
      },
      "execution_count": 10,
      "outputs": [
        {
          "output_type": "stream",
          "name": "stdout",
          "text": [
            "[新聞] 怒吼畫面首曝光！林秉樞靈堂失控 當眾\n",
            "[新聞] 林秉樞假冒國安人員打疫苗？　指揮中心：\n",
            "[爆卦] 跨性別男參賽女子組,血洗美國游泳紀錄\n",
            "Re: [新聞] 開戰！柯文哲發言人嗆盾牌牙醫：含沙射影\n",
            "[新聞] 公投最後10天 蔡英文：台灣隊站出來、一\n",
            "[爆卦] 國發會ip(GSN)親自下場黑韓產業鏈被抓\n",
            "[新聞] 高雄嬤狂掃21愛心便當！站長怒爆「家住\n",
            "[新聞] 衝擊公投？民進黨內盼高嘉瑜噤聲 為黨冷\n",
            "Re: [新聞] 開戰！柯文哲發言人嗆盾牌牙醫：含沙射影\n",
            "[新聞] 獨家／爆林秉樞看守所律見失控嗆高嘉瑜　\n",
            "[新聞] 遭自家人打臉有網軍 柯文哲：到現在被抓\n",
            "[新聞] 網軍風波延燒　柯文哲前幕僚爆：李柏璋\n",
            "[新聞] 肉商表態︰不同意禁萊豬 「反萊豬若通\n",
            "[新聞] 永和水溝漂無頭屍 警仔細一看連四肢都沒有\n",
            "Re: [爆卦] 范雲:KMT抹黑我是女權破口 可恥!\n",
            "[新聞] 「安樂死座艙」瑞士政府核准了！死亡地點\n",
            "[新聞] 怎樣算「台灣隊」隊員？　民進黨曝資格：\n",
            "[新聞] 范雲：停止利用女人傷痛換政治紅利\n",
            "[新聞] 「永和無頭屍」兇手抓到了！不忍母親長期\n",
            "[新聞] 快訊／永和排水溝驚見「無頭、無四肢」人\n"
          ]
        }
      ]
    },
    {
      "cell_type": "code",
      "source": [
        "for r in result:\n",
        "    title = r.select(\"a\")[0]\n",
        "    print(title.get_text())"
      ],
      "metadata": {
        "colab": {
          "base_uri": "https://localhost:8080/"
        },
        "id": "EbqYXyCmH5iQ",
        "outputId": "2166921e-d08b-4b40-edab-518aaca944ac"
      },
      "execution_count": 11,
      "outputs": [
        {
          "output_type": "stream",
          "name": "stdout",
          "text": [
            "[新聞] 怒吼畫面首曝光！林秉樞靈堂失控 當眾\n",
            "[新聞] 林秉樞假冒國安人員打疫苗？　指揮中心：\n",
            "[爆卦] 跨性別男參賽女子組,血洗美國游泳紀錄\n",
            "Re: [新聞] 開戰！柯文哲發言人嗆盾牌牙醫：含沙射影\n",
            "[新聞] 公投最後10天 蔡英文：台灣隊站出來、一\n",
            "[爆卦] 國發會ip(GSN)親自下場黑韓產業鏈被抓\n",
            "[新聞] 高雄嬤狂掃21愛心便當！站長怒爆「家住\n",
            "[新聞] 衝擊公投？民進黨內盼高嘉瑜噤聲 為黨冷\n",
            "Re: [新聞] 開戰！柯文哲發言人嗆盾牌牙醫：含沙射影\n",
            "[新聞] 獨家／爆林秉樞看守所律見失控嗆高嘉瑜　\n",
            "[新聞] 遭自家人打臉有網軍 柯文哲：到現在被抓\n",
            "[新聞] 網軍風波延燒　柯文哲前幕僚爆：李柏璋\n",
            "[新聞] 肉商表態︰不同意禁萊豬 「反萊豬若通\n",
            "[新聞] 永和水溝漂無頭屍 警仔細一看連四肢都沒有\n",
            "Re: [爆卦] 范雲:KMT抹黑我是女權破口 可恥!\n",
            "[新聞] 「安樂死座艙」瑞士政府核准了！死亡地點\n",
            "[新聞] 怎樣算「台灣隊」隊員？　民進黨曝資格：\n",
            "[新聞] 范雲：停止利用女人傷痛換政治紅利\n",
            "[新聞] 「永和無頭屍」兇手抓到了！不忍母親長期\n",
            "[新聞] 快訊／永和排水溝驚見「無頭、無四肢」人\n"
          ]
        }
      ]
    }
  ]
}