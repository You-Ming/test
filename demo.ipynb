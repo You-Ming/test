{
  "nbformat": 4,
  "nbformat_minor": 0,
  "metadata": {
    "colab": {
      "name": "demo.ipynb",
      "provenance": [],
      "authorship_tag": "ABX9TyPEOM5nlEfBQYc2pbjNmmh7",
      "include_colab_link": true
    },
    "kernelspec": {
      "name": "python3",
      "display_name": "Python 3"
    },
    "language_info": {
      "name": "python"
    }
  },
  "cells": [
    {
      "cell_type": "markdown",
      "metadata": {
        "id": "view-in-github",
        "colab_type": "text"
      },
      "source": [
        "<a href=\"https://colab.research.google.com/github/You-Ming/test/blob/main/demo.ipynb\" target=\"_parent\"><img src=\"https://colab.research.google.com/assets/colab-badge.svg\" alt=\"Open In Colab\"/></a>"
      ]
    },
    {
      "cell_type": "code",
      "metadata": {
        "id": "DPTEtrrGqMMm",
        "colab": {
          "base_uri": "https://localhost:8080/"
        },
        "outputId": "04b92b3a-b196-43dc-a880-9dc374b269a4"
      },
      "source": [
        "ls1 = [1, 2, 3, 4]\n",
        "for i in range(len(ls1)):\n",
        "    p = ls1.pop()\n",
        "    ls1.append(p)\n",
        "print(ls1)\n"
      ],
      "execution_count": null,
      "outputs": [
        {
          "output_type": "stream",
          "name": "stdout",
          "text": [
            "[1, 2, 3, 4]\n"
          ]
        }
      ]
    },
    {
      "cell_type": "code",
      "metadata": {
        "colab": {
          "base_uri": "https://localhost:8080/"
        },
        "id": "BROu7XamU4pZ",
        "outputId": "f9db168f-ffe7-4c6a-f1a1-9fac2a07adb2"
      },
      "source": [
        "ls1 = 'admin'\n",
        "for char in ls1:\n",
        "    if char == 'm':\n",
        "        continue\n",
        "    print(char)\n"
      ],
      "execution_count": null,
      "outputs": [
        {
          "output_type": "stream",
          "name": "stdout",
          "text": [
            "a\n",
            "d\n",
            "i\n",
            "n\n"
          ]
        }
      ]
    },
    {
      "cell_type": "code",
      "metadata": {
        "colab": {
          "base_uri": "https://localhost:8080/"
        },
        "id": "qBtLKCpBU_-v",
        "outputId": "ae082807-ddd6-4ca6-bd59-93fb74dbdc95"
      },
      "source": [
        "var = 10\n",
        "while var:\n",
        "    var -= 1\n",
        "    if var > 5:\n",
        "        continue\n",
        "    print(var)\n"
      ],
      "execution_count": null,
      "outputs": [
        {
          "output_type": "stream",
          "name": "stdout",
          "text": [
            "5\n",
            "4\n",
            "3\n",
            "2\n",
            "1\n",
            "0\n"
          ]
        }
      ]
    },
    {
      "cell_type": "code",
      "metadata": {
        "colab": {
          "base_uri": "https://localhost:8080/",
          "height": 35
        },
        "id": "dvmx_Bs_VG2p",
        "outputId": "334726ad-cb7e-4801-c50b-1b4a99d6a7c3"
      },
      "source": [
        "'''\n",
        "for i in range(1,10):\n",
        "  for j in range(1,10):\n",
        "    print(i,\" x \", j, \" = \", i*j)\n",
        "print()\n",
        "'''"
      ],
      "execution_count": null,
      "outputs": [
        {
          "output_type": "execute_result",
          "data": {
            "application/vnd.google.colaboratory.intrinsic+json": {
              "type": "string"
            },
            "text/plain": [
              "'\\nfor i in range(1,10):\\n  for j in range(1,10):\\n    print(i,\" x \", j, \" = \", i*j)\\nprint()\\n'"
            ]
          },
          "metadata": {},
          "execution_count": 11
        }
      ]
    },
    {
      "cell_type": "code",
      "metadata": {
        "colab": {
          "base_uri": "https://localhost:8080/"
        },
        "id": "GuxJgB9yYErH",
        "outputId": "67f29af4-0533-4b23-ebfa-098e1882cd45"
      },
      "source": [
        " list1 = [5, 20, 15, 20, 25, 50, 20]\n",
        " list2 = []\n",
        " for i in list1:\n",
        "   if i != 20:\n",
        "     list2.append(i)\n",
        "\n",
        "print(list2)"
      ],
      "execution_count": null,
      "outputs": [
        {
          "output_type": "execute_result",
          "data": {
            "text/plain": [
              "[5, 15, 25, 50]"
            ]
          },
          "metadata": {},
          "execution_count": 44
        }
      ]
    },
    {
      "cell_type": "code",
      "metadata": {
        "colab": {
          "base_uri": "https://localhost:8080/"
        },
        "id": "RLQ9PeHhbYrz",
        "outputId": "405e44d3-b603-492e-ebc3-051d5794d81e"
      },
      "source": [
        "list1 = [5, 20, 15, 20, 25, 50, 20]\n",
        "list2 = []\n",
        "for i in list1:\n",
        "  if i %2 != 0:\n",
        "    list2.append(i)\n",
        "     \n",
        "print(list2)"
      ],
      "execution_count": null,
      "outputs": [
        {
          "output_type": "execute_result",
          "data": {
            "text/plain": [
              "[5, 15, 25]"
            ]
          },
          "metadata": {},
          "execution_count": 15
        }
      ]
    },
    {
      "cell_type": "code",
      "metadata": {
        "colab": {
          "base_uri": "https://localhost:8080/"
        },
        "id": "n2WFOYUfbvlO",
        "outputId": "b16604d6-9b73-4807-fa3b-51349749c337"
      },
      "source": [
        "list1 = [10, 20, [300, 400, [5000, 6000], 500], 30, 40]\n",
        "print(list1[2][2][1])"
      ],
      "execution_count": null,
      "outputs": [
        {
          "output_type": "execute_result",
          "data": {
            "text/plain": [
              "6000"
            ]
          },
          "metadata": {},
          "execution_count": 17
        }
      ]
    },
    {
      "cell_type": "code",
      "metadata": {
        "colab": {
          "base_uri": "https://localhost:8080/"
        },
        "id": "6AvtVXrru_XQ",
        "outputId": "4a2d8a10-2b6d-4d8e-ca3d-99268e456216"
      },
      "source": [
        "data = input('Please input something :')\n",
        "\n",
        "data = int(data)\n",
        "if data % 5 == 0:\n",
        "  print('Yes')\n",
        "elif data % 5 !=0:\n",
        "  print('No')\n",
        "else:\n",
        "  print('error')"
      ],
      "execution_count": null,
      "outputs": [
        {
          "output_type": "stream",
          "name": "stdout",
          "text": [
            "Please input something :3\n",
            "No\n"
          ]
        }
      ]
    },
    {
      "cell_type": "code",
      "metadata": {
        "colab": {
          "base_uri": "https://localhost:8080/"
        },
        "id": "tvAS0kBivxRu",
        "outputId": "b1e2f5a3-358a-412b-9e66-0a5ac7d35ff9"
      },
      "source": [
        "list1 = [5, 20, 15, 20, 25, 50, 20]\n",
        "list2 = []\n",
        "for i in list1:\n",
        "  if i > 10:\n",
        "    list2.append(i)\n",
        "print(list2)"
      ],
      "execution_count": null,
      "outputs": [
        {
          "output_type": "execute_result",
          "data": {
            "text/plain": [
              "[20, 15, 20, 25, 50, 20]"
            ]
          },
          "metadata": {},
          "execution_count": 24
        }
      ]
    },
    {
      "cell_type": "code",
      "metadata": {
        "colab": {
          "base_uri": "https://localhost:8080/"
        },
        "id": "C4slifH-wI_N",
        "outputId": "5e819953-fd46-4c79-f907-d643a26007a6"
      },
      "source": [
        "for i in range(100,201):\n",
        "  if i%2 == 1:\n",
        "    print(i)"
      ],
      "execution_count": null,
      "outputs": [
        {
          "output_type": "stream",
          "name": "stdout",
          "text": [
            "101\n",
            "103\n",
            "105\n",
            "107\n",
            "109\n",
            "111\n",
            "113\n",
            "115\n",
            "117\n",
            "119\n",
            "121\n",
            "123\n",
            "125\n",
            "127\n",
            "129\n",
            "131\n",
            "133\n",
            "135\n",
            "137\n",
            "139\n",
            "141\n",
            "143\n",
            "145\n",
            "147\n",
            "149\n",
            "151\n",
            "153\n",
            "155\n",
            "157\n",
            "159\n",
            "161\n",
            "163\n",
            "165\n",
            "167\n",
            "169\n",
            "171\n",
            "173\n",
            "175\n",
            "177\n",
            "179\n",
            "181\n",
            "183\n",
            "185\n",
            "187\n",
            "189\n",
            "191\n",
            "193\n",
            "195\n",
            "197\n",
            "199\n"
          ]
        }
      ]
    },
    {
      "cell_type": "code",
      "metadata": {
        "colab": {
          "base_uri": "https://localhost:8080/"
        },
        "id": "X--sYn1CwcqE",
        "outputId": "db91650e-21b8-4328-f732-c66c958a7a14"
      },
      "source": [
        "for i in range(8):\n",
        "  s1 = ''\n",
        "  for j in range(15-i*2):\n",
        "    if j < 7-i:\n",
        "      s1 += ' '\n",
        "    else:\n",
        "      s1 += '*'\n",
        "  print(s1)"
      ],
      "execution_count": null,
      "outputs": [
        {
          "output_type": "stream",
          "name": "stdout",
          "text": [
            "       ********\n",
            "      *******\n",
            "     ******\n",
            "    *****\n",
            "   ****\n",
            "  ***\n",
            " **\n",
            "*\n"
          ]
        }
      ]
    },
    {
      "cell_type": "code",
      "metadata": {
        "colab": {
          "base_uri": "https://localhost:8080/"
        },
        "id": "U-aVk21Z6ljX",
        "outputId": "3e96b6cd-fabf-4810-f38c-0734708c44fb"
      },
      "source": [
        "for i in range(1,9):\n",
        "  inv_i = 9-i\n",
        "  print((' '*inv_i) + ('*'*inv_i))"
      ],
      "execution_count": null,
      "outputs": [
        {
          "output_type": "stream",
          "name": "stdout",
          "text": [
            "        ********\n",
            "       *******\n",
            "      ******\n",
            "     *****\n",
            "    ****\n",
            "   ***\n",
            "  **\n",
            " *\n"
          ]
        }
      ]
    },
    {
      "cell_type": "code",
      "metadata": {
        "colab": {
          "base_uri": "https://localhost:8080/"
        },
        "id": "z87jjUJHz92W",
        "outputId": "3c7aaafb-0033-4eab-e467-64013151f4ce"
      },
      "source": [
        "for i in range(1,6):\n",
        "  s1 = ''\n",
        "  for j in range(1,6):\n",
        "    if j <= i:\n",
        "      s1 += str(j)\n",
        "    else:\n",
        "      s1 += ''\n",
        "  print(s1)"
      ],
      "execution_count": null,
      "outputs": [
        {
          "output_type": "stream",
          "name": "stdout",
          "text": [
            "1\n",
            "12\n",
            "123\n",
            "1234\n",
            "12345\n"
          ]
        }
      ]
    },
    {
      "cell_type": "code",
      "metadata": {
        "colab": {
          "base_uri": "https://localhost:8080/"
        },
        "id": "w2rMpPJo7OlB",
        "outputId": "36648a9b-c6fe-410b-a9c2-2f0ccb6f94d8"
      },
      "source": [
        "tmp = ''\n",
        "for i in range(1,6):\n",
        "  tmp += str(i)\n",
        "  print(tmp)"
      ],
      "execution_count": 1,
      "outputs": [
        {
          "output_type": "stream",
          "name": "stdout",
          "text": [
            "1\n",
            "12\n",
            "123\n",
            "1234\n",
            "12345\n"
          ]
        }
      ]
    },
    {
      "cell_type": "code",
      "source": [
        "def is_over_50(a):\n",
        "  return a >= 50\n",
        "\n",
        "a = is_over_50(50)\n",
        "print(a)"
      ],
      "metadata": {
        "colab": {
          "base_uri": "https://localhost:8080/"
        },
        "id": "qnBrXyHJp7oG",
        "outputId": "26cc5e5a-aeb7-4471-a36b-cada4f3d7a52"
      },
      "execution_count": 7,
      "outputs": [
        {
          "output_type": "stream",
          "name": "stdout",
          "text": [
            "True\n"
          ]
        }
      ]
    },
    {
      "cell_type": "code",
      "source": [
        "def cal_max(par):\n",
        "  max = par[0]\n",
        "  for i in par:\n",
        "    if i > max:\n",
        "      max = i\n",
        "\n",
        "  return max\n",
        "\n",
        "list1 = [4, 6, 8, 24, 12, 2]\n",
        "print(cal_max(list1))"
      ],
      "metadata": {
        "colab": {
          "base_uri": "https://localhost:8080/"
        },
        "id": "uExT0iI_tLrj",
        "outputId": "9bedad8c-a302-4beb-ea6a-85cf8a520164"
      },
      "execution_count": 19,
      "outputs": [
        {
          "output_type": "stream",
          "name": "stdout",
          "text": [
            "24\n"
          ]
        }
      ]
    },
    {
      "cell_type": "code",
      "source": [
        "def date_format(date_str):\n",
        "  list1 = date_str.split('-')\n",
        "  if len(list1[0]) > 4:\n",
        "    print('您輸入的日期是: %s 年 %s 月 %s 號' % (list1[0], list1[1], list1[2]))\n",
        "  else:\n",
        "    print('您輸入的日期是: %s 年 %s 月 %s 號' % (list1[2], list1[1], list1[0]))\n",
        "\n",
        "date_format('01-05-2021 ')"
      ],
      "metadata": {
        "colab": {
          "base_uri": "https://localhost:8080/"
        },
        "id": "KYBDwX_dxQaA",
        "outputId": "343aea3f-02c9-4e57-f063-83147a89b42e"
      },
      "execution_count": 21,
      "outputs": [
        {
          "output_type": "stream",
          "name": "stdout",
          "text": [
            "您輸入的日期是: 2021  年 05 月 01 號\n"
          ]
        }
      ]
    },
    {
      "cell_type": "code",
      "source": [
        "account_ls = []\n",
        "password_ls = []\n",
        "\n",
        "while True:\n",
        "  res = input('請輸入對應讀服務 (a)註冊 (b)登入 (c)退出')\n",
        "\n",
        "  if res == 'c':\n",
        "    print('Bye')\n",
        "    break\n",
        "\n",
        "  elif res == 'a':\n",
        "    account = input('請輸入帳號: ')\n",
        "    if account in account_ls:\n",
        "      print('帳號已被註冊，請重新執行程序...')\n",
        "      continue\n",
        "    password = input('請輸入密碼: ')\n",
        "    account_ls.append(account)\n",
        "    password_ls.append(password)\n",
        "    print('帳號註冊成功')\n",
        "\n",
        "  elif res == 'b':\n",
        "    account = input('請輸入帳號: ')\n",
        "    if account not in account_ls:\n",
        "      print('帳號不存在，請註冊帳號...')\n",
        "      continue\n",
        "    password = input('請輸入密碼: ')\n",
        "    rel_password = ''\n",
        "    for i in range(len(account_ls)):\n",
        "      if account_ls[i] == account:\n",
        "        rel_password = password_ls[i]\n",
        "    if rel_password == password:\n",
        "      print('登入成功！')\n",
        "    else:\n",
        "      print('密碼錯誤，請重新執行程序...')\n",
        "\n",
        "\n",
        "  else:\n",
        "    pass\n"
      ],
      "metadata": {
        "colab": {
          "base_uri": "https://localhost:8080/"
        },
        "id": "r17nN8S285pq",
        "outputId": "45d56cd0-f07f-4ae7-ef24-549d5a97ad84"
      },
      "execution_count": 23,
      "outputs": [
        {
          "output_type": "stream",
          "name": "stdout",
          "text": [
            "請輸入對應讀服務 (a)註冊 (b)登入 (c)退出a\n",
            "請輸入帳號: admin\n",
            "請輸入密碼: 111\n",
            "帳號註冊成功\n",
            "請輸入對應讀服務 (a)註冊 (b)登入 (c)退出b\n",
            "請輸入帳號: aaa\n",
            "帳號不存在，請註冊帳號...\n",
            "請輸入對應讀服務 (a)註冊 (b)登入 (c)退出b\n",
            "請輸入帳號: admin\n",
            "請輸入密碼: 123\n",
            "密碼錯誤，請重新執行程序...\n",
            "請輸入對應讀服務 (a)註冊 (b)登入 (c)退出b\n",
            "請輸入帳號: admin\n",
            "請輸入密碼: 111\n",
            "登入成功！\n",
            "請輸入對應讀服務 (a)註冊 (b)登入 (c)退出c\n",
            "Bye\n"
          ]
        }
      ]
    }
  ]
}