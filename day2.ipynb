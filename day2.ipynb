{
  "nbformat": 4,
  "nbformat_minor": 0,
  "metadata": {
    "colab": {
      "name": "day2.ipynb",
      "provenance": [],
      "authorship_tag": "ABX9TyMtOVdi3aMOvXXOqZJmFPyO",
      "include_colab_link": true
    },
    "kernelspec": {
      "name": "python3",
      "display_name": "Python 3"
    },
    "language_info": {
      "name": "python"
    }
  },
  "cells": [
    {
      "cell_type": "markdown",
      "metadata": {
        "id": "view-in-github",
        "colab_type": "text"
      },
      "source": [
        "<a href=\"https://colab.research.google.com/github/You-Ming/test/blob/main/day2.ipynb\" target=\"_parent\"><img src=\"https://colab.research.google.com/assets/colab-badge.svg\" alt=\"Open In Colab\"/></a>"
      ]
    },
    {
      "cell_type": "code",
      "execution_count": 10,
      "metadata": {
        "colab": {
          "base_uri": "https://localhost:8080/"
        },
        "id": "fKuTeI5kjgCU",
        "outputId": "561fef7a-6f53-4581-d78b-111da86afb15"
      },
      "outputs": [
        {
          "output_type": "stream",
          "name": "stdout",
          "text": [
            "[0. 0. 0. 0. 0. 0. 0. 0. 0. 0.]\n",
            "[[1. 1. 1. 1. 1.]\n",
            " [1. 1. 1. 1. 1.]]\n",
            "[[0 1 2]\n",
            " [3 4 5]]\n"
          ]
        }
      ],
      "source": [
        "import numpy as np\n",
        "\n",
        "\n",
        "a = np.zeros(10)\n",
        "print(a)\n",
        "\n",
        "b = np.ones((2,5))\n",
        "print(b)\n",
        "\n",
        "c = np.array([\n",
        "    [0, 1, 2],\n",
        "    [3, 4, 5]\n",
        "])\n",
        "print(c)\n",
        "\n"
      ]
    },
    {
      "cell_type": "code",
      "source": [
        "d = np.arange(0, 101, 1)\n",
        "print(d)"
      ],
      "metadata": {
        "colab": {
          "base_uri": "https://localhost:8080/"
        },
        "id": "AEV89pXx29pe",
        "outputId": "94a23014-bcec-4290-b3c2-27109451adcc"
      },
      "execution_count": 13,
      "outputs": [
        {
          "output_type": "stream",
          "name": "stdout",
          "text": [
            "[  0   1   2   3   4   5   6   7   8   9  10  11  12  13  14  15  16  17\n",
            "  18  19  20  21  22  23  24  25  26  27  28  29  30  31  32  33  34  35\n",
            "  36  37  38  39  40  41  42  43  44  45  46  47  48  49  50  51  52  53\n",
            "  54  55  56  57  58  59  60  61  62  63  64  65  66  67  68  69  70  71\n",
            "  72  73  74  75  76  77  78  79  80  81  82  83  84  85  86  87  88  89\n",
            "  90  91  92  93  94  95  96  97  98  99 100]\n"
          ]
        }
      ]
    },
    {
      "cell_type": "code",
      "source": [
        "#max, min, median, mean, std\n",
        "z = np.random.random(100)\n",
        "print(np.max(z))\n",
        "print(np.min(z))\n",
        "print(np.median(z))\n",
        "print(np.mean(z))\n",
        "print(np.std(z))\n"
      ],
      "metadata": {
        "colab": {
          "base_uri": "https://localhost:8080/"
        },
        "id": "kHiSnFKy3wW2",
        "outputId": "1f938c64-0feb-4959-fc06-d6aa9e619a99"
      },
      "execution_count": 26,
      "outputs": [
        {
          "output_type": "stream",
          "name": "stdout",
          "text": [
            "0.9983583982227978\n",
            "0.003384242226316725\n",
            "0.4604053576829085\n",
            "0.48048219774137335\n",
            "0.289437036311028\n"
          ]
        }
      ]
    },
    {
      "cell_type": "code",
      "source": [
        "z = np.array([\n",
        "    [0, 1, 2],\n",
        "    [3, 4, 5]\n",
        "])\n",
        "m = np.median(z)\n",
        "s = np.std(z)\n",
        "\n",
        "ans = (z - m) / s\n",
        "print(ans)\n"
      ],
      "metadata": {
        "colab": {
          "base_uri": "https://localhost:8080/"
        },
        "id": "DFShKeZP5Iyp",
        "outputId": "a0b784d8-d2d1-44a6-d532-078e0d310d39"
      },
      "execution_count": 27,
      "outputs": [
        {
          "output_type": "stream",
          "name": "stdout",
          "text": [
            "[[-1.46385011 -0.87831007 -0.29277002]\n",
            " [ 0.29277002  0.87831007  1.46385011]]\n"
          ]
        }
      ]
    },
    {
      "cell_type": "code",
      "source": [
        "c_num = int(input('請輸入1~100的數字: '))\n",
        "num = np.random.randint(0, 10, 1)\n",
        "\n",
        "if c_num > num:\n",
        "  print('Win: 電腦選號為 %s' % num)\n",
        "else:\n",
        "  print('GG: 電腦選號為 %s' % num)\n"
      ],
      "metadata": {
        "colab": {
          "base_uri": "https://localhost:8080/"
        },
        "id": "Vw4Pdrv27yUL",
        "outputId": "356c1f3b-ea03-4736-86cd-80f354836a1e"
      },
      "execution_count": 28,
      "outputs": [
        {
          "output_type": "stream",
          "name": "stdout",
          "text": [
            "請輸入1~100的數字: 80\n",
            "Win: 電腦選號為 [9]\n"
          ]
        }
      ]
    }
  ]
}